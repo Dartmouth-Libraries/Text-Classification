{
 "cells": [
  {
   "attachments": {},
   "cell_type": "markdown",
   "metadata": {},
   "source": [
    "# Combine the text of the SOTU addresses with some meta information"
   ]
  },
  {
   "attachments": {},
   "cell_type": "markdown",
   "metadata": {},
   "source": [
    "The dataset includes a file with meta information for every president and every speech. To facilitate processing, we want to have both the full texts and the meta information for each speech neatly bundled in a single dataframe.\n",
    "\n",
    "This notebook reads in all the speeches and the meta information and combines them in a dataframe, that is then written into a CSV file so it can be reused by other notebooks."
   ]
  },
  {
   "cell_type": "code",
   "execution_count": 1,
   "metadata": {},
   "outputs": [],
   "source": [
    "from ast import literal_eval\n",
    "from pathlib import Path\n",
    "\n",
    "import pandas as pd\n",
    "\n",
    "dataset_folder = Path('~/shared/RR-workshop-data/state-of-the-union-dataset').expanduser()\n",
    "\n",
    "full_text_folder = dataset_folder / 'txt'\n",
    "meta_folder = dataset_folder / 'meta'\n",
    "\n",
    "speeches = []\n",
    "presidents = []\n",
    "years = []\n",
    "\n",
    "for file in full_text_folder.glob('*.txt'):\n",
    "    speeches.append(file.read_text())\n",
    "    president, year = file.stem.split('_')\n",
    "    presidents.append(president)\n",
    "    years.append(int(year))\n",
    "\n",
    "df = pd.DataFrame(index=years, data={'President': presidents, 'Text': speeches}).sort_index()\n",
    "\n",
    "# Read metadata\n",
    "presidents = pd.read_csv(meta_folder / 'presidents.csv', converters={\"Party\": literal_eval})\n",
    "presidents['First Year'] = presidents['Term Start'].str.extract(r',\\s([0-9]{4})').astype(\"int\")\n",
    "presidents['Last Year'] = presidents['Term End'].str.extract(r',\\s([0-9]{4})').astype(\"float\")"
   ]
  },
  {
   "cell_type": "code",
   "execution_count": 26,
   "metadata": {},
   "outputs": [
    {
     "data": {
      "text/plain": [
       "array(['George Washington', 'John Adams', 'Thomas Jefferson',\n",
       "       'James Madison', 'James Monroe', 'John Quincy Adams',\n",
       "       'Andrew Jackson', 'Martin Van Buren', 'John Tyler',\n",
       "       'James K. Polk', 'Zachary Taylor', 'Millard Fillmore',\n",
       "       'Franklin Pierce', 'James Buchanan', 'Abraham Lincoln',\n",
       "       'Andrew Johnson', 'Ulysses S. Grant', 'Rutherford B. Hayes',\n",
       "       'Chester A. Arthur', 'Grover Cleveland', 'Benjamin Harrison',\n",
       "       'William McKinley', 'Theodore Roosevelt', 'William Howard Taft',\n",
       "       'Woodrow Wilson', 'Warren G. Harding', 'Calvin Coolidge',\n",
       "       'Herbert Hoover', 'Franklin D. Roosevelt', 'Harry S. Truman',\n",
       "       'Dwight D. Eisenhower', 'John F. Kennedy', 'Lyndon B. Johnson',\n",
       "       'Richard Nixon', 'Gerald Ford', 'Jimmy Carter', 'Ronald Reagan',\n",
       "       'George H. W. Bush', 'Bill Clinton', 'George W. Bush',\n",
       "       'Barack Obama', 'Donald Trump'], dtype=object)"
      ]
     },
     "execution_count": 26,
     "metadata": {},
     "output_type": "execute_result"
    }
   ],
   "source": [
    "def handle_special_party_case(year, president):\n",
    "    \"\"\" Manually handle some cases where the party affiliation is ambiguous \"\"\"\n",
    "    party = None\n",
    "    if president['Last Name'] in ['Adams', 'Tyler', 'Johnson']:\n",
    "        party = president['Party'][0]\n",
    "    else:\n",
    "        raise NotImplementedError(\"[handle_special_party_case] Unhandled special case!\")   \n",
    "    return party\n",
    "\n",
    "def add_meta(row):\n",
    "    \"\"\" Adds meta information to a row in the dataframe \"\"\"\n",
    "    year = row.name\n",
    "    last_name = row['President']\n",
    "    president = presidents[presidents['Last Name'] == last_name].squeeze()\n",
    "    if isinstance(president, pd.DataFrame):\n",
    "        president = president[(president['First Year'] <= year) & (president['Last Year'] >= year)].squeeze()\n",
    "    \n",
    "    first_name = president['First Name(s)']\n",
    "    row['First Name'] = first_name\n",
    "    party = president['Party']\n",
    "    if len(party) > 1:\n",
    "        party = handle_special_party_case(year, president)\n",
    "    else:\n",
    "        party = party[0]\n",
    "        \n",
    "    row['Party'] = party\n",
    "\n",
    "    return row\n",
    "\n",
    "df = df.apply(add_meta, axis='columns')\n",
    "df['Name'] = df['First Name'] + ' ' + df['President']"
   ]
  },
  {
   "cell_type": "code",
   "execution_count": null,
   "metadata": {},
   "outputs": [],
   "source": [
    "df.insert(0, 'Name', df.pop('Name'))\n",
    "df.insert(1, 'First Name', df.pop('First Name'))\n",
    "df.insert(2, 'Last Name', df.pop('President'))\n",
    "df.insert(3, 'Party', df.pop('Party'))"
   ]
  },
  {
   "cell_type": "code",
   "execution_count": 5,
   "metadata": {},
   "outputs": [],
   "source": [
    "Path('data').mkdir(exist_ok=True, parents=True)\n",
    "df.to_csv('data/sotu-extended.csv', index_label='Year')"
   ]
  },
  {
   "cell_type": "code",
   "execution_count": null,
   "metadata": {},
   "outputs": [],
   "source": []
  }
 ],
 "metadata": {
  "kernelspec": {
   "display_name": ".env",
   "language": "python",
   "name": "python3"
  },
  "language_info": {
   "codemirror_mode": {
    "name": "ipython",
    "version": 3
   },
   "file_extension": ".py",
   "mimetype": "text/x-python",
   "name": "python",
   "nbconvert_exporter": "python",
   "pygments_lexer": "ipython3",
   "version": "3.10.8"
  },
  "orig_nbformat": 4,
  "vscode": {
   "interpreter": {
    "hash": "eb1c3ed5e4eeda39f08ae68d3f6b00a1be81574cc2015927ebcc23db4af570f3"
   }
  }
 },
 "nbformat": 4,
 "nbformat_minor": 2
}
